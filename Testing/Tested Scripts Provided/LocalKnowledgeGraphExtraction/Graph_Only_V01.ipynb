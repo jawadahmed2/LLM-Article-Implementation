{
 "cells": [
  {
   "cell_type": "code",
   "execution_count": 1,
   "id": "76d16535-b415-401d-8e7f-fe519ebf4a2f",
   "metadata": {},
   "outputs": [],
   "source": [
    "import pandas as pd\n",
    "import numpy as np\n",
    "import os\n",
    "from pathlib import Path"
   ]
  },
  {
   "cell_type": "code",
   "execution_count": 14,
   "id": "051809a8-8f68-44da-94bd-658b89b68bc2",
   "metadata": {},
   "outputs": [],
   "source": [
    "import networkx as nx\n",
    "import seaborn as sns\n",
    "from pyvis.network import Network\n",
    "import random"
   ]
  },
  {
   "cell_type": "code",
   "execution_count": 3,
   "id": "e6c46cd7-1d81-457d-bd60-0ae486428427",
   "metadata": {},
   "outputs": [],
   "source": [
    "## Input data directory\n",
    "##########################################################\n",
    "input_file_name = \"Saxony_Eastern_Expansion_EP_95-96.txt\"\n",
    "##########################################################\n",
    "data_dir = \"HotG_Data/\"+input_file_name\n",
    "inputdirectory = Path(f\"./{data_dir}\")\n",
    "\n",
    "## This is where the output csv files will be written\n",
    "#out_dir = data_dir\n",
    "#outputdirectory = Path(f\"./data_output/{out_dir}\")\n",
    "outputdirectory = Path(f\"./data_output\")"
   ]
  },
  {
   "cell_type": "code",
   "execution_count": 4,
   "id": "70db7c31-a159-479e-89a3-54476a00f1de",
   "metadata": {},
   "outputs": [
    {
     "name": "stdout",
     "output_type": "stream",
     "text": [
      "data_output/graph_Saxony_Eastern_Expansion_EP_95-96.csv\n",
      "data_output/chunks_Saxony_Eastern_Expansion_EP_95-96.csv\n",
      "data_output/graph_contex_prox_Saxony_Eastern_Expansion_EP_95-96.csv\n"
     ]
    }
   ],
   "source": [
    "output_graph_file_name = f\"graph_{input_file_name[:-4]}.csv\"\n",
    "output_graph_file_with_path = outputdirectory/output_graph_file_name\n",
    "\n",
    "output_chunks_file_name = f\"chunks_{input_file_name[:-4]}.csv\"\n",
    "output_chunks_file_with_path = outputdirectory/output_chunks_file_name\n",
    "\n",
    "output_context_prox_file_name = f\"graph_contex_prox_{input_file_name[:-4]}.csv\"\n",
    "output_context_prox_file_with_path = outputdirectory/output_context_prox_file_name\n",
    "\n",
    "print(output_graph_file_with_path)\n",
    "print(output_chunks_file_with_path)\n",
    "print(output_context_prox_file_with_path)"
   ]
  },
  {
   "cell_type": "code",
   "execution_count": null,
   "id": "5b974343-449b-4acb-8931-55824ae25769",
   "metadata": {},
   "outputs": [],
   "source": []
  },
  {
   "cell_type": "code",
   "execution_count": 5,
   "id": "6900988b-0856-46e0-8cad-29b7b7168a17",
   "metadata": {},
   "outputs": [],
   "source": [
    "dfg1 = pd.read_csv(output_graph_file_with_path, sep=\";\")"
   ]
  },
  {
   "cell_type": "code",
   "execution_count": 8,
   "id": "f20431a9-8409-49e3-bf30-11b0a0e1f227",
   "metadata": {},
   "outputs": [],
   "source": [
    "dfg2= pd.read_csv(output_context_prox_file_with_path, sep=\";\")"
   ]
  },
  {
   "cell_type": "code",
   "execution_count": 9,
   "id": "6d84c4c7-2748-4630-a167-2e9e02cdc370",
   "metadata": {},
   "outputs": [
    {
     "data": {
      "text/html": [
       "<div>\n",
       "<style scoped>\n",
       "    .dataframe tbody tr th:only-of-type {\n",
       "        vertical-align: middle;\n",
       "    }\n",
       "\n",
       "    .dataframe tbody tr th {\n",
       "        vertical-align: top;\n",
       "    }\n",
       "\n",
       "    .dataframe thead th {\n",
       "        text-align: right;\n",
       "    }\n",
       "</style>\n",
       "<table border=\"1\" class=\"dataframe\">\n",
       "  <thead>\n",
       "    <tr style=\"text-align: right;\">\n",
       "      <th></th>\n",
       "      <th>node_1</th>\n",
       "      <th>node_2</th>\n",
       "      <th>chunk_id</th>\n",
       "      <th>edge</th>\n",
       "      <th>count</th>\n",
       "    </tr>\n",
       "  </thead>\n",
       "  <tbody>\n",
       "    <tr>\n",
       "      <th>0</th>\n",
       "      <td>890</td>\n",
       "      <td>bavarian church</td>\n",
       "      <td>a96d5cd24cfb457ba2719b2cd491cebd,a96d5cd24cfb4...</td>\n",
       "      <td>contextual proximity</td>\n",
       "      <td>3.0</td>\n",
       "    </tr>\n",
       "    <tr>\n",
       "      <th>1</th>\n",
       "      <td>890</td>\n",
       "      <td>cyrill and st. method</td>\n",
       "      <td>a96d5cd24cfb457ba2719b2cd491cebd,a96d5cd24cfb4...</td>\n",
       "      <td>contextual proximity</td>\n",
       "      <td>3.0</td>\n",
       "    </tr>\n",
       "    <tr>\n",
       "      <th>2</th>\n",
       "      <td>890</td>\n",
       "      <td>moravian church</td>\n",
       "      <td>a96d5cd24cfb457ba2719b2cd491cebd,a96d5cd24cfb4...</td>\n",
       "      <td>contextual proximity</td>\n",
       "      <td>2.0</td>\n",
       "    </tr>\n",
       "    <tr>\n",
       "      <th>3</th>\n",
       "      <td>890</td>\n",
       "      <td>moravian slavic church</td>\n",
       "      <td>a96d5cd24cfb457ba2719b2cd491cebd</td>\n",
       "      <td>By 890, this period of Moravian Slavic church ...</td>\n",
       "      <td>0.0</td>\n",
       "    </tr>\n",
       "    <tr>\n",
       "      <th>4</th>\n",
       "      <td>890</td>\n",
       "      <td>pope</td>\n",
       "      <td>a96d5cd24cfb457ba2719b2cd491cebd,a96d5cd24cfb4...</td>\n",
       "      <td>contextual proximity</td>\n",
       "      <td>2.0</td>\n",
       "    </tr>\n",
       "    <tr>\n",
       "      <th>...</th>\n",
       "      <td>...</td>\n",
       "      <td>...</td>\n",
       "      <td>...</td>\n",
       "      <td>...</td>\n",
       "      <td>...</td>\n",
       "    </tr>\n",
       "    <tr>\n",
       "      <th>4850</th>\n",
       "      <td>zietz and merseburg</td>\n",
       "      <td>margraviate of meissen</td>\n",
       "      <td>d31f0ca979794b338040f3acce7c96ed,d31f0ca979794...</td>\n",
       "      <td>Zietz and Merseburg were quickly subsumed into...</td>\n",
       "      <td>2.0</td>\n",
       "    </tr>\n",
       "    <tr>\n",
       "      <th>4851</th>\n",
       "      <td>zietz and merseburg</td>\n",
       "      <td>subsumed into the margraviate of meissen</td>\n",
       "      <td>d1d7da0a4f3642a4aaf7ce79eef9e2a7</td>\n",
       "      <td>The former two, Zietz and Merseburg were relat...</td>\n",
       "      <td>0.0</td>\n",
       "    </tr>\n",
       "    <tr>\n",
       "      <th>4852</th>\n",
       "      <td>zone of influence</td>\n",
       "      <td>centre of power</td>\n",
       "      <td>bb02574fdae44dc2b524737744bde0c0,bb02574fdae44...</td>\n",
       "      <td>contextual proximity</td>\n",
       "      <td>2.0</td>\n",
       "    </tr>\n",
       "    <tr>\n",
       "      <th>4853</th>\n",
       "      <td>zone of influence</td>\n",
       "      <td>geographical area</td>\n",
       "      <td>bb02574fdae44dc2b524737744bde0c0</td>\n",
       "      <td>The first Polish ruler's zone of influence ran...</td>\n",
       "      <td>0.0</td>\n",
       "    </tr>\n",
       "    <tr>\n",
       "      <th>4854</th>\n",
       "      <td>zone of influence</td>\n",
       "      <td>mieszko</td>\n",
       "      <td>bb02574fdae44dc2b524737744bde0c0,bb02574fdae44...</td>\n",
       "      <td>contextual proximity</td>\n",
       "      <td>5.0</td>\n",
       "    </tr>\n",
       "  </tbody>\n",
       "</table>\n",
       "<p>4855 rows × 5 columns</p>\n",
       "</div>"
      ],
      "text/plain": [
       "                   node_1                                    node_2  \\\n",
       "0                     890                           bavarian church   \n",
       "1                     890                     cyrill and st. method   \n",
       "2                     890                           moravian church   \n",
       "3                     890                    moravian slavic church   \n",
       "4                     890                                      pope   \n",
       "...                   ...                                       ...   \n",
       "4850  zietz and merseburg                    margraviate of meissen   \n",
       "4851  zietz and merseburg  subsumed into the margraviate of meissen   \n",
       "4852    zone of influence                           centre of power   \n",
       "4853    zone of influence                         geographical area   \n",
       "4854    zone of influence                                   mieszko   \n",
       "\n",
       "                                               chunk_id  \\\n",
       "0     a96d5cd24cfb457ba2719b2cd491cebd,a96d5cd24cfb4...   \n",
       "1     a96d5cd24cfb457ba2719b2cd491cebd,a96d5cd24cfb4...   \n",
       "2     a96d5cd24cfb457ba2719b2cd491cebd,a96d5cd24cfb4...   \n",
       "3                      a96d5cd24cfb457ba2719b2cd491cebd   \n",
       "4     a96d5cd24cfb457ba2719b2cd491cebd,a96d5cd24cfb4...   \n",
       "...                                                 ...   \n",
       "4850  d31f0ca979794b338040f3acce7c96ed,d31f0ca979794...   \n",
       "4851                   d1d7da0a4f3642a4aaf7ce79eef9e2a7   \n",
       "4852  bb02574fdae44dc2b524737744bde0c0,bb02574fdae44...   \n",
       "4853                   bb02574fdae44dc2b524737744bde0c0   \n",
       "4854  bb02574fdae44dc2b524737744bde0c0,bb02574fdae44...   \n",
       "\n",
       "                                                   edge  count  \n",
       "0                                  contextual proximity    3.0  \n",
       "1                                  contextual proximity    3.0  \n",
       "2                                  contextual proximity    2.0  \n",
       "3     By 890, this period of Moravian Slavic church ...    0.0  \n",
       "4                                  contextual proximity    2.0  \n",
       "...                                                 ...    ...  \n",
       "4850  Zietz and Merseburg were quickly subsumed into...    2.0  \n",
       "4851  The former two, Zietz and Merseburg were relat...    0.0  \n",
       "4852                               contextual proximity    2.0  \n",
       "4853  The first Polish ruler's zone of influence ran...    0.0  \n",
       "4854                               contextual proximity    5.0  \n",
       "\n",
       "[4855 rows x 5 columns]"
      ]
     },
     "execution_count": 9,
     "metadata": {},
     "output_type": "execute_result"
    }
   ],
   "source": [
    "dfg = pd.concat([dfg1, dfg2], axis=0)\n",
    "dfg = (\n",
    "    dfg.groupby([\"node_1\", \"node_2\"])\n",
    "    .agg({\"chunk_id\": \",\".join, \"edge\": ','.join, 'count': 'sum'})\n",
    "    .reset_index()\n",
    ")\n",
    "dfg"
   ]
  },
  {
   "cell_type": "code",
   "execution_count": 10,
   "id": "84b41acc-72c6-4243-b311-d3d4e203f53f",
   "metadata": {},
   "outputs": [
    {
     "data": {
      "text/plain": [
       "(791,)"
      ]
     },
     "execution_count": 10,
     "metadata": {},
     "output_type": "execute_result"
    }
   ],
   "source": [
    "nodes = pd.concat([dfg['node_1'], dfg['node_2']], axis=0).unique()\n",
    "nodes.shape"
   ]
  },
  {
   "cell_type": "code",
   "execution_count": 11,
   "id": "5ccf2256-4407-4786-af48-2d81a613d18e",
   "metadata": {},
   "outputs": [],
   "source": [
    "G = nx.Graph()\n",
    "\n",
    "## Add nodes to the graph\n",
    "for node in nodes:\n",
    "    G.add_node(\n",
    "        str(node)\n",
    "    )\n",
    "\n",
    "## Add edges to the graph\n",
    "for index, row in dfg.iterrows():\n",
    "    G.add_edge(\n",
    "        str(row[\"node_1\"]),\n",
    "        str(row[\"node_2\"]),\n",
    "        title=row[\"edge\"],\n",
    "        weight=row['count']/4\n",
    "    )"
   ]
  },
  {
   "cell_type": "code",
   "execution_count": 12,
   "id": "86d9d076-ef37-4f15-b686-a11d432e63e6",
   "metadata": {},
   "outputs": [
    {
     "name": "stdout",
     "output_type": "stream",
     "text": [
      "Number of Communities =  21\n",
      "[['890', 'an unassuming corner of the underground church', 'apostles to the slavs', 'around the year 100 ad', 'basilica de san clemente', 'bavarian church', 'bavarian missionaries', 'bohemian warlords', 'brothers', 'brougth san clemente to rome', 'carolingians', 'church liturgy', 'church slavonic', 'civil war', 'constantine', 'constantine and methodius', \"constantine's original resting place\", 'constantinople', 'covered in dedications from all slavic nations as well as others', 'cyrill', 'cyrill and st. method', 'dedicated basilica in rome', 'died in rome', 'east francians', 'emperor in constantinople', \"found san clemente's body on the beach in crimea\", 'franks', 'glagolica', 'great moravia', 'greek orthodox tradition', 'house of premyslid', 'invented glagolica', 'irritated the emperor trajan', 'konstantine and method', 'kyrillic alphabet', 'method', 'moravian church', 'moravian church services', 'moravian slavic church', 'moravians', 'one of my all-time favourite roman churches', 'orthodox rites across eastern europe', 'patron saint of seafarers', 'pope', 'preserved for 700 years on a beach in crimea', 'prince ratislav', 'pupils', 'rebellion', 'recovery of the relics of san clemente', 'remained in use until kyrillic alphabet replaced it', 'replaced glagolica', 'san clemente', \"san clemente's body including anchor\", 'slavic language', 'slavic script', 'st cyrill', 'st. method', 'sts. cyrill and method', 'svatopluk', 'theological learning, diplomats, slavic language', 'this event', 'thrown overboard in the black sea with an anchor attached to his feet'], ['8th and 9th century', 'able commander', 'abodrites and redarii', 'accepted baptism', 'access to justice and council', 'achieving greatest triumph at battle of lechfeld', 'acquiring new territory', 'across the border in denmark', 'activities in saxony', 'administration', 'advisor', 'aggressive strategy against the wends', 'agreed to get baptised in exchange for his life', \"agrippa's speech to the jews in josephus\", 'ancestors of', 'appointment of bishops and archbishops', 'appointment of military commanders', 'archaeological research', 'archaeologists', 'archbishop of', 'archbishop of mainz', 'archbishopric of magdeburg', 'aristocracy amongst them whose votes counted more than the average free man', 'armoured cavalry', 'army made up entirely of convicts', 'ascension to the throne', 'assemblies of the local nobility', 'attack the flank of the redarii', 'avars', 'avoiding competition for succession', 'baptism', 'battle of edington', 'battle of riade', 'battle on the lechfeld', 'bavaria', 'bavaria and italy', 'becoming christian', 'beheading', 'bergen', 'bergen in norway', 'billung family', 'billungs', 'bishop of prague', 'bishoprics and monasteries', 'blood court of verden', 'bloodthirsty', 'bohemia', 'bohemian dukes and later kings', 'bohemian ruler', 'bohemians', 'bohemians, poles, and danes', 'boleslaus', 'border expansion', 'bořivoj', 'brandenburg and havelberg', 'bringing the word of the lord to the pagans', 'brought back in the fold by the new emperor otto ii', 'brutal and never-ending feuds', 'brutal raiders', 'burgenordnung', 'byzantine sources', 'came back into the fold', 'campaign of conversion', 'capture by danes in 942', 'carolingian empire', 'carpathian basin', 'carry iron', 'castle', 'castle in brandenburg', 'castles', 'cavalry', 'central authority', 'central bohemia', 'centre of power', 'champion of christendom', 'changing the government', 'changing vital status of his brother', 'chaos', 'charlemagne', \"charlemagne's campaign in saxony\", \"charlemagne's invasion in 772\", \"charlemagne's troops\", 'choice over his brother', 'christian', 'christian missionaries', 'christian powers', 'christian slaves', 'christianity', 'chronicler', 'church', 'cities', 'civil wars', 'cleared up theological doubt', 'cleric', \"cleric's hand\", 'coastline from hamburg to brittany and up the river rhine', 'completion of conquest of denmark', 'complex of castles', 'conflict with the saxons', 'confronted the hungarians and defeated them in 933 at the battle of riade, stalling hungarian expansion for a time', 'conquest of the land of the slavic tribes', 'control over territories', 'conversion amongst the pagans', 'conversion to christianity', 'conversion to christianity in 960s', 'convert', 'converting pagans further east', 'count dietrich of haldensleben', 'courts', 'creation of the archbishopric of magdeburg', 'cult of his murdered brother', 'cultural ties to the byzantian empire', 'czech republic', 'daleminzians', 'danes', 'danevirk', 'danish and northmen origin', 'danish history', 'danish people', 'daughter of duke boleslaus i of bohemia', 'deals', 'decision maker', 'declare their displeasure with absent or overbearing leaders', 'declining central authority', 'decree', 'defeat', 'defeat of the slavic tribe of hevellers', 'defeating an unruly neighbour', 'defeating harald', 'defend borders', 'defensive wars', 'denmark', 'denmark, poland, bohemia and hungary', 'descendants', 'destiny', 'destroying pagan temples', 'developed economy', 'development later than bohemia', 'devout catholic', 'did not understand that their new god was omnibenevolent', 'divided march', 'dividing the lands of a ruling monarch amongst his sons upon his death', 'dobrawa', 'doubt', 'ducal house of liudolfingers', 'duchies', 'duchy of bohemia', 'duke', 'duke boleslaus ii', 'duke of saxony', 'duke of saxony at the time of otto’s death', 'early medieval statecraft', 'early polish rulers', 'east francia', 'eastern europe', 'eckard i', 'economic centres', 'economic model', 'effective church administration', 'egalitarian paradise', 'elbe river', 'elbe river from hamburg to dannenberg', 'elbe river, hungary, balkans', 'elder brother of boleslaus', 'election of the emperor', 'emperor', 'empire', 'encounter with margrave gero', \"end under boleslaus' son, duke boleslaus ii\", 'england, france, and holland', 'england, ireland and northern france', 'enslaving of christians, viking and russian merchants, east slavic peoples, arab and jewish traders', 'entrepot', 'erection', 'establishing bishopric in merseburg', 'establishing bishoprics', 'european politics center', 'european stage', 'executed 4,500 saxon rebels', 'existing christian communities', 'expansion from father’s position', 'expansion of territory', 'eyes tearing', 'famous event', 'fashionable milanese and food-obsessed catalans', 'favorite ottonian ruler', 'fealty to another man', 'felling the sacred irminsul', 'ferocious warriors', 'feudalism', 'field', 'fifth century rampages', 'first cracks', 'first of the house of premyslid', 'first ottonian ruler', 'first polish ruler', 'first real king of denmark', 'first set of bishoprics', 'first two margraves', 'first wife', 'flourished', 'flourishing', 'foreign policy', 'fortifications', 'founding new bishoprics', 'founding of the city of prague', 'four territories east of the elbe river', 'frankish overlords', 'frightened', 'frontier', 'funding', 'further uprisings until by 804 all saxon tribes had been defeated and baptised', 'garrisons', 'general population', 'generous', 'geographical area', 'geographical location', 'german and czech historians', 'germanic tribe', 'germanic tribes of the time of tacitus', 'germany for the west and the south', 'germany, italy and burgundy', 'gero', 'gero and otto i', 'gero, belief of otto i', 'gniesno', 'golden age of medieval saxony', 'good king wenceslaus', 'gorm the old', 'gospel', 'grandson of arpad', 'great heathen army', 'great moravian empire', 'greek origin', 'harald bluetooth', 'harvest', 'harz mountains', 'hatred', 'heated iron', 'henry i', 'henry i and otto i', 'henry the fowler', 'hermann billung', 'hermann billung and margrave gero', 'hermann billung dying', \"hermann billung's actions\", \"hermann billung's control\", \"hermann billung's family\", 'hevellers', 'his army', 'historian or storyteller', 'historical figure', 'hodo', 'hungarian attacks', 'hungarian expansion', 'hungarian plain', 'hungarians or magyars', 'hungary', 'idol worshipping', 'idols', 'importance in next few episodes', 'independently organized church', 'infantry fighting in a close formation', 'inflicted defeat on enemies', 'internal and external pressures', 'intersection of multiple long distance trade routes', 'invasion of saxony in 772', 'investiture controversy', 'irrelevance', 'italy', 'job of local clans', 'just recently created duchy of poland', 'justice, taxation, building of castles and cities', 'jutland peninsula', 'jutland, seeland and skaene', 'keeping an eye on the locals', 'killing wenceslaus', 'king', 'king alfred of wessex', 'king harold', 'king of east francia, bavaria and moravia', \"king's conversion\", 'kingdom of east francia', 'kingdom of east francia forward frontiers', 'kingdom of saxony', 'kings and emperors', 'knife (sahs)', 'laid the foundations of slavonic literature and material heritage of the west-slavonic peoples', 'land beyond elbe river', 'land or other sources of income like markets', 'language', 'last war against danes in 935', 'latin christianity', 'latin church in the merovingian empire', 'latin rite', 'leader chosen by the free men of the tribe or, if you follow widukind, by lot', 'leaders of hungarians or magyars', 'leadership role', 'led annual rebellions against the franks', 'led from the front', 'liudolfingers', 'liudolfingers family', 'local aristocracies', 'local aristocrats', 'local clans', 'locals', 'loose', 'losing their heads or other extremities right now or in the service of the empire', 'lower oder river', 'lucan', \"lucan's commentary\", 'luneburg', 'macedonian army origin', 'magyars', 'main danish defence', 'maintaining their practices', 'major powers in the region', 'major role', 'managed to capture widukind', 'managing the election and the royal coronation', 'march of lusatia', 'march of meissen', 'march of the billungs', 'marches', 'margrave gero', 'margraviate', 'margraviate of meissen', 'mark lausitz or march of lusatia', 'markets', 'marriage to dobrawa', 'material considerations', 'material upgrade in military capabilities', 'medieval rule', 'meissen', 'mentions that some of the soldiers had been riven with fear before the battle', 'merovingian strongholds in thuringia', 'merseburg', 'mid-layer between the ineffectual kings and the warring local clans', 'miesco', 'miesco i', 'mieszko', \"mieszko's politically opportune move\", 'military and diplomatic efforts', 'military assistance', 'military commanders', 'military forces', 'military fortresses', 'military fortresses and slaving raids', 'military recovery', 'military system', \"minor king's head\", 'missionaries', 'missionary activity into poland and beyond', 'modern state of saxony', 'monitoring the locals', 'moravia', 'more destruction of symbols of pagan religion and more enforced baptism', 'motte and bailey castles', 'motte and bailey castles along the borders', 'much larger slavic migration into eastern europe', 'multitude killed with knives', 'murder', 'neighbours', 'new bishoprics in paderborn, bremen, verden, muenster', 'new ecclesiastical infrastructure in the east and north', 'new, much larger fortifications', 'new, much larger structures', 'newly acquired territories east of the elbe', 'no cities', 'no king or duke', 'noble houses of saxony', 'nominal responsibility for all the lands to the east', 'north-eastern saxony', 'northern march', 'northern part', 'northern possessions', 'northern sections of frontier', 'norway', 'not of the ancestors of', 'notoriously unreliable sagas', 'oath of fealty', 'obodrites army', 'occupation of lands', 'old and noble people', 'older brother', 'one in every 9 peasants trained in war and live in the castle', 'order', 'otto', 'otto i', 'otto i and his brother, the duke of bavaria', 'otto i making his way up north poste haste', \"otto i's death in 973\", \"otto i's place at dinner and his bed in the palace\", \"otto i's stand-in\", 'otto ii', 'otto the great', 'otto the venerable', \"otto's death\", \"otto's duchy\", \"otto's rule\", 'ottonian family', 'ottonian rule', 'ottonian rulers', 'pagan', 'pagan beliefs', 'pagan lands', 'paganism', 'passed the tests', 'peasants', 'period from 919 to 1025', 'personal rule', 'personal thing', 'poet', 'pointy spears', 'poland', 'poland, czechia, slovakia, across the balkans and most significantly in the kiewan rus', 'poland, kievan rus and hungarians', 'poles', 'political direction', 'poppo', \"poppo's faith demonstration\", 'powerful and brave man', 'poznan', 'prague', 'predominant population in the territories', 'predominantly inhabited by slavs', 'preferred by wenceslaus', 'premislids', 'presence in the region', 'presence of the ruler', 'prisoners beheading', 'prisoners of war', 'professionalized carolingian military', 'protected kingdom against foreign raiders', 'protected local population in times of war', 'protection of vassal', 'protofeudal state', 'prussian troops', 'pupils of cyrill and method', 'pupils of cyrill and method, the bavarians and frankish missionaries', 'push conversion amongst the pagans', 'quedlinburg and merseburg', 'raiding and pillaging kind', 'raids into silesia and northern moravia', 'ransom payment or successful campaign by otto the great', 'reasonable job', 'reconsolidated under king henry the fowler', 'redarii', 'regional kings in denmark', 'reigning years of 936 to 958', 'reigning years of 958 to 986', 'relatives of stephen', 'reliable ally of the empire', 'remote and peaceful lives', 'renewal of oaths', 'reorganisation of episcopal responsibilities', 'replaced by the hungarians', 'resistance', 'retaliated by holding the blood court of verden', 'rhine river, trier', \"rollo's descendant william the conqueror\", 'roman cities in macedonia and thrace', 'rome and western civilization', 'royal court', 'rule', 'ruler of bohemia', 'ruler of the duchy of bohemia', 'rulers of the great moravian empire', 'rulers of the march of the billungs', 'ruling dynasty', 'rumblings in saxony', 'saint', 'sausage-eating berliners', 'saxon and polish slaving raids', 'saxon border', 'saxon castle', 'saxon castles', 'saxon castles and garrisons', 'saxon nobles', 'saxon nobles who had not bend the knee', \"saxon nobles' duke and emperor\", 'saxon soldiers', 'saxon vassals', 'saxons', 'saxons and poles', 'saxony', 'schleswig-holstein', 'settlements', 'settlements on the lower rhine', 'several times to break this formation', 'shield of christendom', 'showed up with his army', 'siberia', 'simmering', 'skilled in war', 'skilled in war, good counselor, eloquent and learned', 'slaves', 'slavic areas of settlement', 'slavic areas of settlement in poland, czechia, slovakia', 'slavic army', 'slavic leaders', 'slavic people living in the marches', 'slavic peoples', 'slavic peoples living between elbe and oder river', 'slavic tribes', 'slavs', 'small contingent in north sea', 'smaller fortifications, 8th and 9th century', 'smart policy', 'son of gorm the old', 'son of the rebellious wichman', 'sons of bořivoj', 'southern poland, western hungary', 'spread out villages', 'st. boniface', 'stabilized east francia', 'state entity of the christianization period', 'stem duchy of saxony', 'step down and return to till his fields after war is over', 'stephen', 'steppe nomads', 'steppe nomads, not slavs', 'story', 'strong enough to force the moravians to admit bavarian missionaries', 'subduing and integrating saxons', 'submission', 'subsumed into the margraviate of meissen', 'succession to the whole of it', 'superhuman knowledge', 'superior strength', 'surrender or be traded south as a slaves', 'surrendered and asked for their lives', 'swearing oath', 'system of fiefs', 'systematic destruction', 'systematic destruction of symbols of pagan religion and forced baptisms', 'take no prisoners on the few occasions they got the upper hand', 'taking against their duke and emperor', 'territories to the east of the elbe', 'territory', 'test of faith', 'thankmar', 'the cavalry of the saxons', 'the great empire', 'the northern march and the march of lusatia', 'the saxons', 'the slavic defenders of walsleben', 'the slavs', 'the warriors', 'their duke and emperor', 'theoretically all the way to the ural mountains', 'these wars', 'three smaller bishoprics in merseburg, meissen and zeitz', 'tight control further south', 'trade', 'traders', 'trained soldiers', 'training', 'training in war', 'treaty of friendship with otto the great', 'tribute', 'tried to throw off the yoke of imperial vassalage', 'turning newly built palace into church', 'tv series vikings', 'two-way obligation', 'unharmed', 'uprisings', 'utmost brutality', 'vassal', 'vassal of emperor otto the great', 'vassal status', 'vassals', \"version of harald bluetooth's conversion to christianity\", 'viking lifestyle', 'vikings', 'village', 'waik', 'warlords of bohemia', 'weaking', 'well trained and disciplined cavalry of henry', 'well-connected', 'well-settled duchy', 'wenceslaus', 'wenceslaus younger brother boleslaus', 'wends', 'west francia, lothringia and east francia', 'western sources', 'wichmann', \"wichmann's family\", \"wichmann's son\", 'widukind', 'widukind of corvey', 'widukind von corvey', 'winedi', 'wiping out the last of', 'world', 'worship of old gods', 'young wenceslaus', 'younger of two brothers', 'zietz and merseburg', 'zone of influence'], ['aachen', 'allowed ansgar to set up a missionary bishoprics in schleswig', 'ansgar', \"ansgar's missionary activity\", 'august of saxon houses', 'based mainly in westphalia with', 'bases of the danes', 'carolingian family', 'christianity penetration', 'co-opted', 'cologne', 'conflict', 'corbie monastery', 'corvey', 'counts', 'danish control', 'east francian', 'ecclesiastical centres', 'ecclesiastical infrastructure', 'embed christianity in the local population and strengthen imperial control', 'emerge', 'empire of louis the pious', 'established', 'famed school and scriptorium', 'frankish nobleman', 'friesland', 'getting baptised', 'great abbey of corvey', 'hamburg', 'home to our ansgar', 'horik the elder', 'immedinger', 'legitimate ruler of lands in continental europe', 'made an archbishopric', 'mainz', 'mikael shainkman', 'missionary bishoprics in schleswig', \"missionary work in the saxons' land\", 'modern day holland', 'new bishoprics', 'new corbie', 'newly established library', 'normandy or parts of normandy', 'outer frontier of the empire', 'paderborn, bremen, verden, muenster, osnabrück, hildesheim and halberstadt', 'penetrate deeper into scandinavia', 'political and economic factors', 'precious relics', 'raids by the danes', 'resolution of the inheritance issue', 'responsibility for newly created districts', 'responsibility for northern saxony as well as all scandinavia and all the slavic lands on the baltic sea', 'rhine', 'rhine delta', 'rollo', \"rollo's descendant\", 'saint ansgar', 'saxon aristocratic elite', 'scandinavian history podcast', 'small cities', 'st. ansgar', 'stable situation', 'successor of horik the elder', 'threw the missionaries out', 'trace their lineage back to the converted rebel widukind', 'treaty of verdun', 'viking leader', 'west francia, lotharingia and east francia', 'william the conqueror', 'wooden churches', 'xanten'], ['archdiocese of hamburg-bremen', 'scandinavia'], ['borderlands to the east', 'competent margraves'], ['castrated young men', 'desiring those things that seem a burden to us', 'employment on large aristocratic estates across europe', 'harems of spain, north africa, levant and constantinople', 'slave trade in the 9th and 10th century', 'slavic people', 'slavic people fighting for liberty and against worst kind of slavery', 'struggle between two sides', 'tough and able to endure hardships', 'valuable slaves in the slave trade'], ['conquered territory', 'falling out with otto i', 'gernrode abbey church', \"gero's burial place\", \"gero's grief\", \"gero's latter years\", \"gero's return from rome\", \"gero's sons\", \"gero's widowed daughter-in-law\", 'heir', 'modern states of brandenburg, saxony and sachsen anhalt or roughly 2/3 of what would later become the gdr', 'ottonian architecture', 'pilgrimage to rome', 'servitude', 'stem duchies of the time'], ['current laender of mecklenburg-vorpommern, brandenburg, sachsen anhalt and sachsen', 'marcher counties'], ['ecclesiastical matters', 'secular state infrastructure of any kind'], ['estates', 'europe'], ['existence of secular state infrastructure', 'period before the investiture controversy'], ['hermann billung and gero', 'raids, margrave, lusatia (lausitz in german)'], ['how that comes about', 'next week'], ['infrastructure', 'spread of christianity and imperial power further east'], ['land of the slavic tribes', 'river'], ['magdeburg', 'missionary activity into poland'], ['new archbishopric', 'whole of the east'], ['old duchy of saxony', 'stability'], ['police station, local court, social services', 'secular state infrastructure'], ['regain their freedom', 'weaking of the empire'], ['surgeons', 'verdun and leon']]\n"
     ]
    }
   ],
   "source": [
    "communities_generator = nx.community.girvan_newman(G)\n",
    "top_level_communities = next(communities_generator)\n",
    "next_level_communities = next(communities_generator)\n",
    "communities = sorted(map(sorted, next_level_communities))\n",
    "print(\"Number of Communities = \", len(communities))\n",
    "print(communities)"
   ]
  },
  {
   "cell_type": "code",
   "execution_count": 15,
   "id": "a4091457-445a-4701-b437-1e5ae80c05fe",
   "metadata": {},
   "outputs": [
    {
     "data": {
      "text/html": [
       "<div>\n",
       "<style scoped>\n",
       "    .dataframe tbody tr th:only-of-type {\n",
       "        vertical-align: middle;\n",
       "    }\n",
       "\n",
       "    .dataframe tbody tr th {\n",
       "        vertical-align: top;\n",
       "    }\n",
       "\n",
       "    .dataframe thead th {\n",
       "        text-align: right;\n",
       "    }\n",
       "</style>\n",
       "<table border=\"1\" class=\"dataframe\">\n",
       "  <thead>\n",
       "    <tr style=\"text-align: right;\">\n",
       "      <th></th>\n",
       "      <th>node</th>\n",
       "      <th>color</th>\n",
       "      <th>group</th>\n",
       "    </tr>\n",
       "  </thead>\n",
       "  <tbody>\n",
       "    <tr>\n",
       "      <th>0</th>\n",
       "      <td>890</td>\n",
       "      <td>#dbd057</td>\n",
       "      <td>1</td>\n",
       "    </tr>\n",
       "    <tr>\n",
       "      <th>1</th>\n",
       "      <td>an unassuming corner of the underground church</td>\n",
       "      <td>#dbd057</td>\n",
       "      <td>1</td>\n",
       "    </tr>\n",
       "    <tr>\n",
       "      <th>2</th>\n",
       "      <td>apostles to the slavs</td>\n",
       "      <td>#dbd057</td>\n",
       "      <td>1</td>\n",
       "    </tr>\n",
       "    <tr>\n",
       "      <th>3</th>\n",
       "      <td>around the year 100 ad</td>\n",
       "      <td>#dbd057</td>\n",
       "      <td>1</td>\n",
       "    </tr>\n",
       "    <tr>\n",
       "      <th>4</th>\n",
       "      <td>basilica de san clemente</td>\n",
       "      <td>#dbd057</td>\n",
       "      <td>1</td>\n",
       "    </tr>\n",
       "    <tr>\n",
       "      <th>...</th>\n",
       "      <td>...</td>\n",
       "      <td>...</td>\n",
       "      <td>...</td>\n",
       "    </tr>\n",
       "    <tr>\n",
       "      <th>786</th>\n",
       "      <td>secular state infrastructure</td>\n",
       "      <td>#57db85</td>\n",
       "      <td>19</td>\n",
       "    </tr>\n",
       "    <tr>\n",
       "      <th>787</th>\n",
       "      <td>regain their freedom</td>\n",
       "      <td>#579bdb</td>\n",
       "      <td>20</td>\n",
       "    </tr>\n",
       "    <tr>\n",
       "      <th>788</th>\n",
       "      <td>weaking of the empire</td>\n",
       "      <td>#579bdb</td>\n",
       "      <td>20</td>\n",
       "    </tr>\n",
       "    <tr>\n",
       "      <th>789</th>\n",
       "      <td>surgeons</td>\n",
       "      <td>#db5775</td>\n",
       "      <td>21</td>\n",
       "    </tr>\n",
       "    <tr>\n",
       "      <th>790</th>\n",
       "      <td>verdun and leon</td>\n",
       "      <td>#db5775</td>\n",
       "      <td>21</td>\n",
       "    </tr>\n",
       "  </tbody>\n",
       "</table>\n",
       "<p>791 rows × 3 columns</p>\n",
       "</div>"
      ],
      "text/plain": [
       "                                               node    color  group\n",
       "0                                               890  #dbd057      1\n",
       "1    an unassuming corner of the underground church  #dbd057      1\n",
       "2                             apostles to the slavs  #dbd057      1\n",
       "3                            around the year 100 ad  #dbd057      1\n",
       "4                          basilica de san clemente  #dbd057      1\n",
       "..                                              ...      ...    ...\n",
       "786                    secular state infrastructure  #57db85     19\n",
       "787                            regain their freedom  #579bdb     20\n",
       "788                           weaking of the empire  #579bdb     20\n",
       "789                                        surgeons  #db5775     21\n",
       "790                                 verdun and leon  #db5775     21\n",
       "\n",
       "[791 rows x 3 columns]"
      ]
     },
     "execution_count": 15,
     "metadata": {},
     "output_type": "execute_result"
    }
   ],
   "source": [
    "palette = \"hls\"\n",
    "\n",
    "## Now add these colors to communities and make another dataframe\n",
    "def colors2Community(communities) -> pd.DataFrame:\n",
    "    ## Define a color palette\n",
    "    p = sns.color_palette(palette, len(communities)).as_hex()\n",
    "    random.shuffle(p)\n",
    "    rows = []\n",
    "    group = 0\n",
    "    for community in communities:\n",
    "        color = p.pop()\n",
    "        group += 1\n",
    "        for node in community:\n",
    "            rows += [{\"node\": node, \"color\": color, \"group\": group}]\n",
    "    df_colors = pd.DataFrame(rows)\n",
    "    return df_colors\n",
    "\n",
    "\n",
    "colors = colors2Community(communities)\n",
    "colors"
   ]
  },
  {
   "cell_type": "code",
   "execution_count": 16,
   "id": "6c1f9e0f-9997-4fa4-8554-b52e9945054d",
   "metadata": {},
   "outputs": [],
   "source": [
    "for index, row in colors.iterrows():\n",
    "    G.nodes[row['node']]['group'] = row['group']\n",
    "    G.nodes[row['node']]['color'] = row['color']\n",
    "    G.nodes[row['node']]['size'] = G.degree[row['node']]"
   ]
  },
  {
   "cell_type": "code",
   "execution_count": 17,
   "id": "deed6a22-d32e-4e6e-a5bc-d1949f8d3f27",
   "metadata": {},
   "outputs": [],
   "source": [
    "#graph_output_directory = \"./docs/index.html\"\n",
    "net = Network(\n",
    "    notebook=True,\n",
    "    # bgcolor=\"#1a1a1a\",\n",
    "    cdn_resources=\"remote\",\n",
    "    height=\"900px\",\n",
    "    width=\"100%\",\n",
    "    select_menu=True,\n",
    "    # font_color=\"#cccccc\",\n",
    "    filter_menu=False,\n",
    ")"
   ]
  },
  {
   "cell_type": "code",
   "execution_count": 18,
   "id": "3af13ead-71b4-45a4-b12a-e1129a35834b",
   "metadata": {},
   "outputs": [],
   "source": [
    "net.from_nx(G)\n",
    "# net.repulsion(node_distance=150, spring_length=400)\n",
    "net.force_atlas_2based(central_gravity=0.015, gravity=-31)\n",
    "# net.barnes_hut(gravity=-18100, central_gravity=5.05, spring_length=380)\n",
    "net.show_buttons(filter_=[\"physics\"])"
   ]
  },
  {
   "cell_type": "code",
   "execution_count": 19,
   "id": "03223a68-2395-41e9-a0d5-5f602a9f4f49",
   "metadata": {},
   "outputs": [
    {
     "data": {
      "text/html": [
       "\n",
       "        <iframe\n",
       "            width=\"100%\"\n",
       "            height=\"900px\"\n",
       "            src=\"graph.html\"\n",
       "            frameborder=\"0\"\n",
       "            allowfullscreen\n",
       "            \n",
       "        ></iframe>\n",
       "        "
      ],
      "text/plain": [
       "<IPython.lib.display.IFrame at 0x162786610>"
      ]
     },
     "execution_count": 19,
     "metadata": {},
     "output_type": "execute_result"
    }
   ],
   "source": [
    "# net.show(graph_output_directory)\n",
    "net.show(\"graph.html\")"
   ]
  },
  {
   "cell_type": "code",
   "execution_count": null,
   "id": "a0140b43-53a6-4826-9411-13eefa917387",
   "metadata": {},
   "outputs": [],
   "source": []
  },
  {
   "cell_type": "code",
   "execution_count": null,
   "id": "8f2a92e8-84be-41f6-b853-cc1f56b5a336",
   "metadata": {},
   "outputs": [],
   "source": []
  }
 ],
 "metadata": {
  "kernelspec": {
   "display_name": "ds_ws_01",
   "language": "python",
   "name": "ds_ws_01"
  },
  "language_info": {
   "codemirror_mode": {
    "name": "ipython",
    "version": 3
   },
   "file_extension": ".py",
   "mimetype": "text/x-python",
   "name": "python",
   "nbconvert_exporter": "python",
   "pygments_lexer": "ipython3",
   "version": "3.11.8"
  }
 },
 "nbformat": 4,
 "nbformat_minor": 5
}
